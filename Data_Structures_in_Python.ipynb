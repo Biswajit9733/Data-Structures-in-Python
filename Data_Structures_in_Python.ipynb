{
  "nbformat": 4,
  "nbformat_minor": 0,
  "metadata": {
    "colab": {
      "provenance": []
    },
    "kernelspec": {
      "name": "python3",
      "display_name": "Python 3"
    },
    "language_info": {
      "name": "python"
    }
  },
  "cells": [
    {
      "cell_type": "markdown",
      "source": [
        "**Q1. Write a code to reverse a string.**"
      ],
      "metadata": {
        "id": "NOwZG3TYK423"
      }
    },
    {
      "cell_type": "code",
      "execution_count": 1,
      "metadata": {
        "colab": {
          "base_uri": "https://localhost:8080/"
        },
        "id": "LgB1qEnCKCkC",
        "outputId": "49491528-82cb-4ff9-dd72-abfdebd62a7c"
      },
      "outputs": [
        {
          "output_type": "stream",
          "name": "stdout",
          "text": [
            "!dlroW ,olleH\n"
          ]
        }
      ],
      "source": [
        "# Function to reverse a string\n",
        "def reverse_string(s):\n",
        "    return s[::-1]\n",
        "\n",
        "# Example usage\n",
        "input_string = \"Hello, World!\"\n",
        "reversed_string = reverse_string(input_string)\n",
        "print(reversed_string)"
      ]
    },
    {
      "cell_type": "markdown",
      "source": [
        "**Q2. Write a code to count the number of vowels in a string.**"
      ],
      "metadata": {
        "id": "I3LmOG6ALLVD"
      }
    },
    {
      "cell_type": "code",
      "source": [
        "# Function to count the number of vowels in a string\n",
        "def count_vowels(s):\n",
        "    vowels = \"aeiouAEIOU\"\n",
        "    count = sum(1 for char in s if char in vowels)\n",
        "    return count\n",
        "\n",
        "# Example usage\n",
        "input_string = \"Hello, World!\"\n",
        "vowel_count = count_vowels(input_string)\n",
        "print(\"Number of vowels:\", vowel_count)"
      ],
      "metadata": {
        "colab": {
          "base_uri": "https://localhost:8080/"
        },
        "id": "YW8iKPGRLPq1",
        "outputId": "35ea9684-d63c-4d29-a548-ce00205a22a7"
      },
      "execution_count": 2,
      "outputs": [
        {
          "output_type": "stream",
          "name": "stdout",
          "text": [
            "Number of vowels: 3\n"
          ]
        }
      ]
    },
    {
      "cell_type": "markdown",
      "source": [
        "**Q3. Write a code to check if a given string is a palindrome or not.**"
      ],
      "metadata": {
        "id": "x6EtykJYLYy0"
      }
    },
    {
      "cell_type": "code",
      "source": [
        "# Function to check if a string is a palindrome\n",
        "def is_palindrome(s):\n",
        "    # Normalize the string by removing spaces and converting to lowercase\n",
        "    s = s.replace(\" \", \"\").lower()\n",
        "    return s == s[::-1]\n",
        "\n",
        "# Example usage\n",
        "input_string = \"A man a plan a canal Panama\"\n",
        "result = is_palindrome(input_string)\n",
        "print(\"Is the string a palindrome?\", result)"
      ],
      "metadata": {
        "colab": {
          "base_uri": "https://localhost:8080/"
        },
        "id": "vPkrdBZHLc0w",
        "outputId": "b920f67f-f2c2-49b1-c080-c6279ca58633"
      },
      "execution_count": 3,
      "outputs": [
        {
          "output_type": "stream",
          "name": "stdout",
          "text": [
            "Is the string a palindrome? True\n"
          ]
        }
      ]
    },
    {
      "cell_type": "markdown",
      "source": [
        "**Q4. Write a code to check if two given strings are anagrams of each other.**"
      ],
      "metadata": {
        "id": "AYSSf0HcLidR"
      }
    },
    {
      "cell_type": "code",
      "source": [
        "# Function to check if two strings are anagrams\n",
        "def are_anagrams(str1, str2):\n",
        "    # Remove spaces and convert to lowercase\n",
        "    str1 = str1.replace(\" \", \"\").lower()\n",
        "    str2 = str2.replace(\" \", \"\").lower()\n",
        "    # Sort the characters and compare\n",
        "    return sorted(str1) == sorted(str2)\n",
        "\n",
        "# Example usage\n",
        "string1 = \"Listen\"\n",
        "string2 = \"Silent\"\n",
        "result = are_anagrams(string1, string2)\n",
        "print(\"Are the two strings anagrams?\", result)"
      ],
      "metadata": {
        "colab": {
          "base_uri": "https://localhost:8080/"
        },
        "id": "1hu-wfjeLqMG",
        "outputId": "8ae272dc-4f9c-495c-a36b-d8f178198b0a"
      },
      "execution_count": 4,
      "outputs": [
        {
          "output_type": "stream",
          "name": "stdout",
          "text": [
            "Are the two strings anagrams? True\n"
          ]
        }
      ]
    },
    {
      "cell_type": "markdown",
      "source": [
        "**Q5. Write a code to find all occurrences of a given substring within another string.**"
      ],
      "metadata": {
        "id": "tQvfvkb6Lwav"
      }
    },
    {
      "cell_type": "code",
      "source": [
        "# Function to find all occurrences of a substring within a string\n",
        "def find_substring_occurrences(main_string, substring):\n",
        "    start = 0\n",
        "    occurrences = []\n",
        "\n",
        "    while True:\n",
        "        start = main_string.find(substring, start)\n",
        "        if start == -1:\n",
        "            break\n",
        "        occurrences.append(start)\n",
        "        start += 1  # Move to the next character after the found substring\n",
        "\n",
        "    return occurrences\n",
        "\n",
        "# Example usage\n",
        "main_string = \"Hello, hello, how low?\"\n",
        "substring = \"hello\"\n",
        "occurrences = find_substring_occurrences(main_string, substring)\n",
        "print(\"Occurrences of substring:\", occurrences)"
      ],
      "metadata": {
        "colab": {
          "base_uri": "https://localhost:8080/"
        },
        "id": "3DP48K2UMDQs",
        "outputId": "5d62e667-19bf-4a7b-8adb-30c108a6c8df"
      },
      "execution_count": 5,
      "outputs": [
        {
          "output_type": "stream",
          "name": "stdout",
          "text": [
            "Occurrences of substring: [7]\n"
          ]
        }
      ]
    },
    {
      "cell_type": "markdown",
      "source": [
        "**Q6. Write a code to perform basic string compression using the counts of repeated characters.**"
      ],
      "metadata": {
        "id": "_vRROGZyMHKG"
      }
    },
    {
      "cell_type": "code",
      "source": [
        "# Function to compress a string using counts of repeated characters\n",
        "def compress_string(s):\n",
        "    if not s:\n",
        "        return \"\"\n",
        "\n",
        "    compressed = []\n",
        "    count = 1\n",
        "\n",
        "    for i in range(1, len(s)):\n",
        "        if s[i] == s[i - 1]:\n",
        "            count += 1\n",
        "        else:\n",
        "            compressed.append(s[i - 1] + str(count))\n",
        "            count = 1\n",
        "\n",
        "    # Append the last character and its count\n",
        "    compressed.append(s[-1] + str(count))\n",
        "\n",
        "    return ''.join(compressed)\n",
        "\n",
        "# Example usage\n",
        "input_string = \"aaabbcdddde\"\n",
        "compressed_string = compress_string(input_string)\n",
        "print(\"Compressed string:\", compressed_string)"
      ],
      "metadata": {
        "colab": {
          "base_uri": "https://localhost:8080/"
        },
        "id": "-tmvv6pRMMWE",
        "outputId": "9266dda8-40fb-4143-82d2-abda6cd24474"
      },
      "execution_count": 6,
      "outputs": [
        {
          "output_type": "stream",
          "name": "stdout",
          "text": [
            "Compressed string: a3b2c1d4e1\n"
          ]
        }
      ]
    },
    {
      "cell_type": "markdown",
      "source": [
        "**Q7. Write a code to determine if a string has all unique characters.**"
      ],
      "metadata": {
        "id": "IHJdanSSMT08"
      }
    },
    {
      "cell_type": "code",
      "source": [
        "# Function to check if a string has all unique characters\n",
        "def has_all_unique_characters(s):\n",
        "    # Normalize the string by removing spaces and converting to lowercase\n",
        "    s = s.replace(\" \", \"\").lower()\n",
        "    # Use a set to track seen characters\n",
        "    seen = set()\n",
        "\n",
        "    for char in s:\n",
        "        if char in seen:\n",
        "            return False\n",
        "        seen.add(char)\n",
        "\n",
        "    return True\n",
        "\n",
        "# Example usage\n",
        "input_string = \"abcdefg\"\n",
        "result = has_all_unique_characters(input_string)\n",
        "print(\"Does the string have all unique characters?\", result)"
      ],
      "metadata": {
        "colab": {
          "base_uri": "https://localhost:8080/"
        },
        "id": "ndUx-89BMYfO",
        "outputId": "f8f7b7b2-03c2-4205-9fba-9138307b2aa4"
      },
      "execution_count": 7,
      "outputs": [
        {
          "output_type": "stream",
          "name": "stdout",
          "text": [
            "Does the string have all unique characters? True\n"
          ]
        }
      ]
    },
    {
      "cell_type": "markdown",
      "source": [
        "**Q8. Write a code to convert a given string to uppercase or lowercase.**"
      ],
      "metadata": {
        "id": "W3yTPbDOMdUS"
      }
    },
    {
      "cell_type": "code",
      "source": [
        "# Function to convert a string to uppercase or lowercase\n",
        "def convert_case(s, to_upper=True):\n",
        "    if to_upper:\n",
        "        return s.upper()\n",
        "    else:\n",
        "        return s.lower()\n",
        "\n",
        "# Example usage\n",
        "input_string = \"Hello, World!\"\n",
        "uppercased_string = convert_case(input_string, to_upper=True)\n",
        "lowercased_string = convert_case(input_string, to_upper=False)\n",
        "\n",
        "print(\"Uppercase:\", uppercased_string)\n",
        "print(\"Lowercase:\", lowercased_string)"
      ],
      "metadata": {
        "colab": {
          "base_uri": "https://localhost:8080/"
        },
        "id": "3CgzoryaMi_Z",
        "outputId": "fda62877-d5fa-4e93-b48e-8749ac24a07a"
      },
      "execution_count": 8,
      "outputs": [
        {
          "output_type": "stream",
          "name": "stdout",
          "text": [
            "Uppercase: HELLO, WORLD!\n",
            "Lowercase: hello, world!\n"
          ]
        }
      ]
    },
    {
      "cell_type": "markdown",
      "source": [
        "**Q9. Write a code to count the number of words in a string.**"
      ],
      "metadata": {
        "id": "XjTYuIElMopH"
      }
    },
    {
      "cell_type": "code",
      "source": [
        "# Function to count the number of words in a string\n",
        "def count_words(s):\n",
        "    # Split the string into words based on whitespace\n",
        "    words = s.split()\n",
        "    return len(words)\n",
        "\n",
        "# Example usage\n",
        "input_string = \"Hello, world! This is a test string.\"\n",
        "word_count = count_words(input_string)\n",
        "print(\"Number of words:\", word_count)"
      ],
      "metadata": {
        "colab": {
          "base_uri": "https://localhost:8080/"
        },
        "id": "06TJQVXAMylj",
        "outputId": "db4cd2c5-52a1-418b-e592-b5c039c06e49"
      },
      "execution_count": 9,
      "outputs": [
        {
          "output_type": "stream",
          "name": "stdout",
          "text": [
            "Number of words: 7\n"
          ]
        }
      ]
    },
    {
      "cell_type": "markdown",
      "source": [
        "**Q10. Write a code to concatenate two strings without using the + operator.**"
      ],
      "metadata": {
        "id": "gFhNyQC0NOh5"
      }
    },
    {
      "cell_type": "code",
      "source": [
        "# Function to concatenate two strings without using the + operator\n",
        "def concatenate_strings(str1, str2):\n",
        "    return ''.join([str1, str2])\n",
        "\n",
        "# Example usage\n",
        "string1 = \"Hello\"\n",
        "string2 = \"World\"\n",
        "concatenated_string = concatenate_strings(string1, string2)\n",
        "print(\"Concatenated string:\", concatenated_string)"
      ],
      "metadata": {
        "colab": {
          "base_uri": "https://localhost:8080/"
        },
        "id": "2NRDw9BuNRhu",
        "outputId": "9490db3f-5e4a-4035-f9c4-b385096bfc2b"
      },
      "execution_count": 10,
      "outputs": [
        {
          "output_type": "stream",
          "name": "stdout",
          "text": [
            "Concatenated string: HelloWorld\n"
          ]
        }
      ]
    },
    {
      "cell_type": "markdown",
      "source": [
        "**Q11. Write a code to remove all occurrences of a specific element from a list.**"
      ],
      "metadata": {
        "id": "suhfEZfvNV5W"
      }
    },
    {
      "cell_type": "code",
      "source": [
        "# Function to remove all occurrences of a specific element from a list\n",
        "def remove_occurrences(lst, element):\n",
        "    return [item for item in lst if item != element]\n",
        "\n",
        "# Example usage\n",
        "input_list = [1, 2, 3, 2, 4, 2, 5]\n",
        "element_to_remove = 2\n",
        "result_list = remove_occurrences(input_list, element_to_remove)\n",
        "print(\"List after removing occurrences:\", result_list)"
      ],
      "metadata": {
        "colab": {
          "base_uri": "https://localhost:8080/"
        },
        "id": "wgyfJZhTNbFW",
        "outputId": "b9e3a3bb-8a70-4b6a-f962-82fae49115ca"
      },
      "execution_count": 11,
      "outputs": [
        {
          "output_type": "stream",
          "name": "stdout",
          "text": [
            "List after removing occurrences: [1, 3, 4, 5]\n"
          ]
        }
      ]
    },
    {
      "cell_type": "markdown",
      "source": [
        "**Q12. Implement a code to find the second largest number in a given list of integers.**"
      ],
      "metadata": {
        "id": "lhOWbeCnNeIJ"
      }
    },
    {
      "cell_type": "code",
      "source": [
        "# Function to find the second largest number in a list\n",
        "def second_largest(lst):\n",
        "    unique_numbers = list(set(lst))  # Remove duplicates\n",
        "    unique_numbers.sort()  # Sort the numbers\n",
        "    if len(unique_numbers) < 2:\n",
        "        return None  # Return None if there is no second largest\n",
        "    return unique_numbers[-2]  # Return the second last item\n",
        "\n",
        "# Example usage\n",
        "input_numbers = [5, 3, 9, 1, 5, 6]\n",
        "second_largest_number = second_largest(input_numbers)\n",
        "print(\"Second largest number:\", second_largest_number)"
      ],
      "metadata": {
        "colab": {
          "base_uri": "https://localhost:8080/"
        },
        "id": "9baohC08Niqw",
        "outputId": "2d7db574-ccab-4094-ba70-9c927ee32fc5"
      },
      "execution_count": 12,
      "outputs": [
        {
          "output_type": "stream",
          "name": "stdout",
          "text": [
            "Second largest number: 6\n"
          ]
        }
      ]
    },
    {
      "cell_type": "markdown",
      "source": [
        "**Q13. Create a code to count the occurrences of each element in a list and return a dictionary with elements as keys and their counts as values.**"
      ],
      "metadata": {
        "id": "XxntjiZINy3N"
      }
    },
    {
      "cell_type": "code",
      "source": [
        "# Function to count the occurrences of each element in a list\n",
        "def count_occurrences(lst):\n",
        "    count_dict = {}\n",
        "    for item in lst:\n",
        "        if item in count_dict:\n",
        "            count_dict[item] += 1\n",
        "        else:\n",
        "            count_dict[item] = 1\n",
        "    return count_dict\n",
        "\n",
        "# Example usage\n",
        "input_list = [1, 2, 2, 3, 1, 4, 4, 4]\n",
        "occurrences = count_occurrences(input_list)\n",
        "print(\"Occurrences of each element:\", occurrences)"
      ],
      "metadata": {
        "colab": {
          "base_uri": "https://localhost:8080/"
        },
        "id": "t7y2WJxqN2n6",
        "outputId": "286bdf7e-b5b4-4a9b-d584-6a4fa249912b"
      },
      "execution_count": 13,
      "outputs": [
        {
          "output_type": "stream",
          "name": "stdout",
          "text": [
            "Occurrences of each element: {1: 2, 2: 2, 3: 1, 4: 3}\n"
          ]
        }
      ]
    },
    {
      "cell_type": "markdown",
      "source": [
        "**Q14. Write a code to reverse a list in-place without using any built-in reverse functions.**"
      ],
      "metadata": {
        "id": "oSd3KB9_N5-k"
      }
    },
    {
      "cell_type": "code",
      "source": [
        "# Function to reverse a list in-place\n",
        "def reverse_list(lst):\n",
        "    left = 0\n",
        "    right = len(lst) - 1\n",
        "    while left < right:\n",
        "        # Swap the elements\n",
        "        lst[left], lst[right] = lst[right], lst[left]\n",
        "        left += 1\n",
        "        right -= 1\n",
        "\n",
        "# Example usage\n",
        "input_list = [1, 2, 3, 4, 5]\n",
        "reverse_list(input_list)\n",
        "print(\"Reversed list:\", input_list)"
      ],
      "metadata": {
        "colab": {
          "base_uri": "https://localhost:8080/"
        },
        "id": "5ceaXpFlOFVt",
        "outputId": "c8f31b41-4b4d-4c72-d95a-a48a9626fce0"
      },
      "execution_count": 14,
      "outputs": [
        {
          "output_type": "stream",
          "name": "stdout",
          "text": [
            "Reversed list: [5, 4, 3, 2, 1]\n"
          ]
        }
      ]
    },
    {
      "cell_type": "markdown",
      "source": [
        "**Q15. Implement a code to find and remove duplicates from a list while preserving the original order of elements.**"
      ],
      "metadata": {
        "id": "AY48v8ypOUih"
      }
    },
    {
      "cell_type": "code",
      "source": [
        "# Function to remove duplicates from a list while preserving the original order\n",
        "def remove_duplicates(lst):\n",
        "    seen = set()\n",
        "    result = []\n",
        "    for item in lst:\n",
        "        if item not in seen:\n",
        "            seen.add(item)\n",
        "            result.append(item)\n",
        "    return result\n",
        "\n",
        "# Example usage\n",
        "input_list = [1, 2, 3, 2, 4, 1, 5, 3]\n",
        "unique_list = remove_duplicates(input_list)\n",
        "print(\"List after removing duplicates:\", unique_list)"
      ],
      "metadata": {
        "colab": {
          "base_uri": "https://localhost:8080/"
        },
        "id": "fmgbNO0QOWcl",
        "outputId": "76b61d01-86b3-4b52-f949-469c40ca1e96"
      },
      "execution_count": 15,
      "outputs": [
        {
          "output_type": "stream",
          "name": "stdout",
          "text": [
            "List after removing duplicates: [1, 2, 3, 4, 5]\n"
          ]
        }
      ]
    },
    {
      "cell_type": "markdown",
      "source": [
        "**Q16. Create a code to check if a given list is sorted (either in ascending or descending order) or not.**"
      ],
      "metadata": {
        "id": "PWaVMo5CPQd8"
      }
    },
    {
      "cell_type": "code",
      "source": [
        "# Function to check if a list is sorted in ascending or descending order\n",
        "def is_sorted(lst):\n",
        "    ascending = all(lst[i] <= lst[i + 1] for i in range(len(lst) - 1))\n",
        "    descending = all(lst[i] >= lst[i + 1] for i in range(len(lst) - 1))\n",
        "    return ascending or descending\n",
        "\n",
        "# Example usage\n",
        "input_list = [1, 2, 3, 4, 5]\n",
        "result = is_sorted(input_list)\n",
        "print(\"Is the list sorted?\", result)"
      ],
      "metadata": {
        "colab": {
          "base_uri": "https://localhost:8080/"
        },
        "id": "wSqcVKsjP0Ob",
        "outputId": "fd566c8b-c5ec-4773-9e12-005d64823589"
      },
      "execution_count": 16,
      "outputs": [
        {
          "output_type": "stream",
          "name": "stdout",
          "text": [
            "Is the list sorted? True\n"
          ]
        }
      ]
    },
    {
      "cell_type": "markdown",
      "source": [
        "**Q17. Write a code to merge two sorted lists into a single sorted list.**"
      ],
      "metadata": {
        "id": "PcOzkag3PSDh"
      }
    },
    {
      "cell_type": "code",
      "source": [
        "# Function to merge two sorted lists into a single sorted list\n",
        "def merge_sorted_lists(list1, list2):\n",
        "    merged_list = []\n",
        "    i, j = 0, 0\n",
        "\n",
        "    while i < len(list1) and j < len(list2):\n",
        "        if list1[i] < list2[j]:\n",
        "            merged_list.append(list1[i])\n",
        "            i += 1\n",
        "        else:\n",
        "            merged_list.append(list2[j])\n",
        "            j += 1\n",
        "\n",
        "    # Append any remaining elements\n",
        "    merged_list.extend(list1[i:])\n",
        "    merged_list.extend(list2[j:])\n",
        "\n",
        "    return merged_list\n",
        "\n",
        "# Example usage\n",
        "sorted_list1 = [1, 3, 5]\n",
        "sorted_list2 = [2, 4, 6]\n",
        "merged = merge_sorted_lists(sorted_list1, sorted_list2)\n",
        "print(\"Merged sorted list:\", merged)"
      ],
      "metadata": {
        "colab": {
          "base_uri": "https://localhost:8080/"
        },
        "id": "LSTFcpnTP3yA",
        "outputId": "e24b5ab1-08d3-46b1-b71d-548e5ffbbb5d"
      },
      "execution_count": 18,
      "outputs": [
        {
          "output_type": "stream",
          "name": "stdout",
          "text": [
            "Merged sorted list: [1, 2, 3, 4, 5, 6]\n"
          ]
        }
      ]
    },
    {
      "cell_type": "markdown",
      "source": [
        "**Q18. Implement a code to find the intersection of two given lists.**"
      ],
      "metadata": {
        "id": "_zzf70e0PWSH"
      }
    },
    {
      "cell_type": "code",
      "source": [
        "# Function to find the intersection of two lists\n",
        "def list_intersection(list1, list2):\n",
        "    return list(set(list1) & set(list2))\n",
        "\n",
        "# Example usage\n",
        "input_list1 = [1, 2, 3, 4]\n",
        "input_list2 = [3, 4, 5, 6]\n",
        "intersection = list_intersection(input_list1, input_list2)\n",
        "print(\"Intersection of the two lists:\", intersection)"
      ],
      "metadata": {
        "colab": {
          "base_uri": "https://localhost:8080/"
        },
        "id": "LGj5A69OQB9R",
        "outputId": "dabcd693-0343-40cd-9c29-e0fdcbed3a6b"
      },
      "execution_count": 19,
      "outputs": [
        {
          "output_type": "stream",
          "name": "stdout",
          "text": [
            "Intersection of the two lists: [3, 4]\n"
          ]
        }
      ]
    },
    {
      "cell_type": "markdown",
      "source": [
        "**Q19. Create a code to find the union of two lists without duplicates.**"
      ],
      "metadata": {
        "id": "Z_h63Tx8PbBt"
      }
    },
    {
      "cell_type": "code",
      "source": [
        "# Function to find the union of two lists without duplicates\n",
        "def list_union(list1, list2):\n",
        "    return list(set(list1) | set(list2))\n",
        "\n",
        "# Example usage\n",
        "input_list1 = [1, 2, 3, 4]\n",
        "input_list2 = [3, 4, 5, 6]\n",
        "union = list_union(input_list1, input_list2)\n",
        "print(\"Union of the two lists:\", union)"
      ],
      "metadata": {
        "colab": {
          "base_uri": "https://localhost:8080/"
        },
        "id": "27vZH-7SQEWR",
        "outputId": "ade989d7-a465-493c-f925-cae28d1828c7"
      },
      "execution_count": 20,
      "outputs": [
        {
          "output_type": "stream",
          "name": "stdout",
          "text": [
            "Union of the two lists: [1, 2, 3, 4, 5, 6]\n"
          ]
        }
      ]
    },
    {
      "cell_type": "markdown",
      "source": [
        "**Q20. Write a code to shuffle a given list randomly without using any built-in shuffle functions.**"
      ],
      "metadata": {
        "id": "jVBy3js4Pl8z"
      }
    },
    {
      "cell_type": "code",
      "source": [
        "import random\n",
        "\n",
        "# Function to shuffle a list randomly\n",
        "def shuffle_list(lst):\n",
        "    for i in range(len(lst) - 1, 0, -1):\n",
        "        j = random.randint(0, i)\n",
        "        lst[i], lst[j] = lst[j], lst[i]  # Swap elements\n",
        "    return lst\n",
        "\n",
        "# Example usage\n",
        "input_list = [1, 2, 3, 4, 5]\n",
        "shuffled = shuffle_list(input_list.copy())  # Use copy to keep original list unchanged\n",
        "print(\"Shuffled list:\", shuffled)"
      ],
      "metadata": {
        "colab": {
          "base_uri": "https://localhost:8080/"
        },
        "id": "AvjjB9qhQHL9",
        "outputId": "dacdaa4b-cfbf-4b23-a77a-10461ad0d404"
      },
      "execution_count": 21,
      "outputs": [
        {
          "output_type": "stream",
          "name": "stdout",
          "text": [
            "Shuffled list: [5, 1, 4, 2, 3]\n"
          ]
        }
      ]
    },
    {
      "cell_type": "markdown",
      "source": [
        "**Q21. Write a code that takes two tuples as input and returns a new tuple containing elements that are common to both input tuples.**"
      ],
      "metadata": {
        "id": "UiyP1mBtPpS2"
      }
    },
    {
      "cell_type": "code",
      "source": [
        "# Function to find common elements in two tuples\n",
        "def common_elements(tuple1, tuple2):\n",
        "    return tuple(set(tuple1) & set(tuple2))\n",
        "\n",
        "# Example usage\n",
        "tuple1 = (1, 2, 3, 4)\n",
        "tuple2 = (3, 4, 5, 6)\n",
        "common = common_elements(tuple1, tuple2)\n",
        "print(\"Common elements in the tuples:\", common)"
      ],
      "metadata": {
        "colab": {
          "base_uri": "https://localhost:8080/"
        },
        "id": "HpUjrtb5QKHR",
        "outputId": "f05f0a96-041a-4942-b401-a258fb626699"
      },
      "execution_count": 22,
      "outputs": [
        {
          "output_type": "stream",
          "name": "stdout",
          "text": [
            "Common elements in the tuples: (3, 4)\n"
          ]
        }
      ]
    },
    {
      "cell_type": "markdown",
      "source": [
        "**Q22.  Create a code that prompts the user to enter two sets of integers separated by commas. Then, print the intersection of these two sets.**"
      ],
      "metadata": {
        "id": "J5Fy4UtGPtF_"
      }
    },
    {
      "cell_type": "code",
      "source": [
        "# Function to get intersection of two sets from user input\n",
        "def get_intersection_from_input():\n",
        "    set1_input = input(\"Enter the first set of integers separated by commas: \")\n",
        "    set2_input = input(\"Enter the second set of integers separated by commas: \")\n",
        "\n",
        "    set1 = set(map(int, set1_input.split(',')))\n",
        "    set2 = set(map(int, set2_input.split(',')))\n",
        "\n",
        "    intersection = set1 & set2\n",
        "    print(\"Intersection of the two sets:\", intersection)\n",
        "get_intersection_from_input()"
      ],
      "metadata": {
        "colab": {
          "base_uri": "https://localhost:8080/"
        },
        "id": "J_1BSiE86ih0",
        "outputId": "c3327cb2-8a2d-460d-f13d-91f100f0d5a5"
      },
      "execution_count": 19,
      "outputs": [
        {
          "output_type": "stream",
          "name": "stdout",
          "text": [
            "Enter the first set of integers separated by commas: 1, 2, 3, 4\n",
            "Enter the second set of integers separated by commas: 3, 4, 5, 6\n",
            "Intersection of the two sets: {3, 4}\n"
          ]
        }
      ]
    },
    {
      "cell_type": "markdown",
      "source": [
        "**Q23. Write a code to concatenate two tuples. The function should take two tuples as input and return a new tuple containing elements from both input tuples.**"
      ],
      "metadata": {
        "id": "LIlXNXfiPwYr"
      }
    },
    {
      "cell_type": "code",
      "source": [
        "# Function to concatenate two tuples\n",
        "def concatenate_tuples(tuple1, tuple2):\n",
        "    return tuple1 + tuple2\n",
        "\n",
        "# Example usage\n",
        "tuple1 = (1, 2, 3)\n",
        "tuple2 = (4, 5, 6)\n",
        "concatenated = concatenate_tuples(tuple1, tuple2)\n",
        "print(\"Concatenated tuple:\", concatenated)"
      ],
      "metadata": {
        "colab": {
          "base_uri": "https://localhost:8080/"
        },
        "id": "Gwxqj5X9QjcL",
        "outputId": "48ef1641-ec36-47ab-fb9e-9c1060746f24"
      },
      "execution_count": 25,
      "outputs": [
        {
          "output_type": "stream",
          "name": "stdout",
          "text": [
            "Concatenated tuple: (1, 2, 3, 4, 5, 6)\n"
          ]
        }
      ]
    },
    {
      "cell_type": "markdown",
      "source": [
        "**24. Develop a code that prompts the user to input two sets of strings. Then, print the elements that are present in the first set but not in the second set.**"
      ],
      "metadata": {
        "id": "cKDfGPdG-kpR"
      }
    },
    {
      "cell_type": "code",
      "source": [
        "# Function to get the difference between two sets of strings\n",
        "def set_difference():\n",
        "    set1_input = input(\"Enter the first set of strings separated by commas: \")\n",
        "    set2_input = input(\"Enter the second set of strings separated by commas: \")\n",
        "\n",
        "    set1 = set(set1_input.split(','))\n",
        "    set2 = set(set2_input.split(','))\n",
        "\n",
        "    difference = set1 - set2\n",
        "    print(\"Elements present in the first set but not in the second set:\", difference)\n",
        "set_difference()\n"
      ],
      "metadata": {
        "colab": {
          "base_uri": "https://localhost:8080/"
        },
        "id": "pthpQyua_b_R",
        "outputId": "4efcfa6a-5535-49af-a6bf-eb28bfa568ee"
      },
      "execution_count": 16,
      "outputs": [
        {
          "output_type": "stream",
          "name": "stdout",
          "text": [
            "Enter the first set of strings separated by commas: 'apple, orange, banana'\n",
            "Enter the second set of strings separated by commas: 'banana, grape'\n",
            "Elements present in the first set but not in the second set: {' orange', \"'apple\", \" banana'\"}\n"
          ]
        }
      ]
    },
    {
      "cell_type": "markdown",
      "source": [
        "**25. Create a code that takes a tuple and two integers as input. The function should return a new tuple containing elements from the original tuple within the specified range of indices.**"
      ],
      "metadata": {
        "id": "gajylD-1-qHv"
      }
    },
    {
      "cell_type": "code",
      "source": [
        "# Function to return a subtuple within a specified range\n",
        "def subtuple_from_range(tpl, start_idx, end_idx):\n",
        "    return tpl[start_idx:end_idx]\n",
        "\n",
        "# Example usage\n",
        "input_tuple = (1, 2, 3, 4, 5, 6)\n",
        "start, end = 2, 5\n",
        "subtuple = subtuple_from_range(input_tuple, start, end)\n",
        "print(\"Subtuple:\", subtuple)"
      ],
      "metadata": {
        "colab": {
          "base_uri": "https://localhost:8080/"
        },
        "id": "FNCP7ZgIGZqT",
        "outputId": "613cb4ef-cecf-4e5e-830f-d7e0d94b2a08"
      },
      "execution_count": 20,
      "outputs": [
        {
          "output_type": "stream",
          "name": "stdout",
          "text": [
            "Subtuple: (3, 4, 5)\n"
          ]
        }
      ]
    },
    {
      "cell_type": "markdown",
      "source": [
        "**26. Write a code that prompts the user to input two sets of characters. Then, print the union of these two sets.**"
      ],
      "metadata": {
        "id": "E9aGslJA-u1R"
      }
    },
    {
      "cell_type": "code",
      "source": [
        "# Function to get the union of two sets of characters\n",
        "def set_union():\n",
        "    set1_input = input(\"Enter the first set of characters separated by commas: \")\n",
        "    set2_input = input(\"Enter the second set of characters separated by commas: \")\n",
        "\n",
        "    set1 = set(set1_input.split(','))\n",
        "    set2 = set(set2_input.split(','))\n",
        "\n",
        "    union = set1 | set2\n",
        "    print(\"Union of the two sets:\", union)\n",
        "set_union()"
      ],
      "metadata": {
        "colab": {
          "base_uri": "https://localhost:8080/"
        },
        "id": "QE4K_mq1Gd8i",
        "outputId": "e36a1ce1-6326-4a63-a9df-8415e2c5f6a8"
      },
      "execution_count": 24,
      "outputs": [
        {
          "output_type": "stream",
          "name": "stdout",
          "text": [
            "Enter the first set of characters separated by commas: a,b,c\n",
            "Enter the second set of characters separated by commas: c,d,e\n",
            "Union of the two sets: {'b', 'e', 'd', 'c', 'a'}\n"
          ]
        }
      ]
    },
    {
      "cell_type": "markdown",
      "source": [
        "**27. Develop a code that takes a tuple of integers as input. The function should return the maximum and minimum values from the tuple using tuple unpacking.**"
      ],
      "metadata": {
        "id": "QFYluANC-33w"
      }
    },
    {
      "cell_type": "code",
      "source": [
        "# Function to return the maximum and minimum values from a tuple\n",
        "def max_min_tuple(tpl):\n",
        "    return max(tpl), min(tpl)\n",
        "\n",
        "# Example usage\n",
        "input_tuple = (1, 3, 5, 7, 2, 8)\n",
        "max_val, min_val = max_min_tuple(input_tuple)\n",
        "print(\"Max:\", max_val)\n",
        "print(\"Min:\", min_val)"
      ],
      "metadata": {
        "colab": {
          "base_uri": "https://localhost:8080/"
        },
        "id": "yk0Tdt98H5bs",
        "outputId": "7a53c6c3-c757-47ab-bd50-9342dba29c72"
      },
      "execution_count": 25,
      "outputs": [
        {
          "output_type": "stream",
          "name": "stdout",
          "text": [
            "Max: 8\n",
            "Min: 1\n"
          ]
        }
      ]
    },
    {
      "cell_type": "markdown",
      "source": [
        "**28. Create a code that defines two sets of integers. Then, print the union, intersection, and difference of these two sets.**"
      ],
      "metadata": {
        "id": "O_qQrUj1-74Q"
      }
    },
    {
      "cell_type": "code",
      "source": [
        "# Function to perform union, intersection, and difference of two sets\n",
        "def set_operations():\n",
        "    set1 = {1, 2, 3, 4}\n",
        "    set2 = {3, 4, 5, 6}\n",
        "\n",
        "    union = set1 | set2\n",
        "    intersection = set1 & set2\n",
        "    difference = set1 - set2\n",
        "\n",
        "    print(\"Union:\", union)\n",
        "    print(\"Intersection:\", intersection)\n",
        "    print(\"Difference:\", difference)\n",
        "set_operations()"
      ],
      "metadata": {
        "colab": {
          "base_uri": "https://localhost:8080/"
        },
        "id": "Ahv584IcH-SZ",
        "outputId": "c1c2c70a-5f77-4b55-f7e4-c4f568afea26"
      },
      "execution_count": 26,
      "outputs": [
        {
          "output_type": "stream",
          "name": "stdout",
          "text": [
            "Union: {1, 2, 3, 4, 5, 6}\n",
            "Intersection: {3, 4}\n",
            "Difference: {1, 2}\n"
          ]
        }
      ]
    },
    {
      "cell_type": "markdown",
      "source": [
        "**29. Write a code that takes a tuple and an element as input. The function should return the count of occurrences of the given element in the tuple.**"
      ],
      "metadata": {
        "id": "hgbUis4K-_Xi"
      }
    },
    {
      "cell_type": "code",
      "source": [
        "# Function to count occurrences of an element in a tuple\n",
        "def count_element_in_tuple(tpl, element):\n",
        "    return tpl.count(element)\n",
        "\n",
        "# Example usage\n",
        "input_tuple = (1, 2, 3, 2, 4, 2, 5)\n",
        "element = 2\n",
        "count = count_element_in_tuple(input_tuple, element)\n",
        "print(f\"Element {element} occurs {count} times in the tuple.\")"
      ],
      "metadata": {
        "colab": {
          "base_uri": "https://localhost:8080/"
        },
        "id": "UXRywI26IFx3",
        "outputId": "87a2e21d-6aad-4bff-c86b-2173259f5adf"
      },
      "execution_count": 27,
      "outputs": [
        {
          "output_type": "stream",
          "name": "stdout",
          "text": [
            "Element 2 occurs 3 times in the tuple.\n"
          ]
        }
      ]
    },
    {
      "cell_type": "markdown",
      "source": [
        "**30. Develop a code that prompts the user to input two sets of strings. Then, print the symmetric difference of these two sets.**"
      ],
      "metadata": {
        "id": "Hxy7hmQJ_DYF"
      }
    },
    {
      "cell_type": "code",
      "source": [
        "# Function to get the symmetric difference between two sets of strings\n",
        "def symmetric_difference():\n",
        "    set1_input = input(\"Enter the first set of strings separated by commas: \")\n",
        "    set2_input = input(\"Enter the second set of strings separated by commas: \")\n",
        "\n",
        "    set1 = set(set1_input.split(','))\n",
        "    set2 = set(set2_input.split(','))\n",
        "\n",
        "    sym_diff = set1 ^ set2\n",
        "    print(\"Symmetric difference of the two sets:\", sym_diff)\n",
        "symmetric_difference()"
      ],
      "metadata": {
        "colab": {
          "base_uri": "https://localhost:8080/"
        },
        "id": "LSpCR6qXIUCK",
        "outputId": "91844415-ace1-4e4a-dc61-0c7455d9c4e8"
      },
      "execution_count": 31,
      "outputs": [
        {
          "output_type": "stream",
          "name": "stdout",
          "text": [
            "Enter the first set of strings separated by commas: a , b , c\n",
            "Enter the second set of strings separated by commas: c , d\n",
            "Symmetric difference of the two sets: {' d', 'c ', 'a ', ' b ', ' c'}\n"
          ]
        }
      ]
    },
    {
      "cell_type": "markdown",
      "source": [
        "**31. Write a code that takes a list of words as input and returns a dictionary where the keys are unique words and the values are the frequencies of those words in the input list.**"
      ],
      "metadata": {
        "id": "Xne9scSs_Gs6"
      }
    },
    {
      "cell_type": "code",
      "source": [
        "# Function to return word frequencies in a list\n",
        "def word_frequencies(words):\n",
        "    freq_dict = {}\n",
        "    for word in words:\n",
        "        freq_dict[word] = freq_dict.get(word, 0) + 1\n",
        "    return freq_dict\n",
        "\n",
        "\n",
        "word_list = [\"apple\", \"banana\", \"apple\", \"orange\", \"banana\", \"apple\"]\n",
        "frequencies = word_frequencies(word_list)\n",
        "print(\"Word frequencies:\", frequencies)"
      ],
      "metadata": {
        "colab": {
          "base_uri": "https://localhost:8080/"
        },
        "id": "FhyJXXtsJmxF",
        "outputId": "8caa13ad-c97c-489c-8a5e-7aeb9ab0a2d0"
      },
      "execution_count": 32,
      "outputs": [
        {
          "output_type": "stream",
          "name": "stdout",
          "text": [
            "Word frequencies: {'apple': 3, 'banana': 2, 'orange': 1}\n"
          ]
        }
      ]
    },
    {
      "cell_type": "markdown",
      "source": [
        "**32. Write a code that takes two dictionaries as input and merges them into a single dictionary. If there are common keys, the values should be added together.**"
      ],
      "metadata": {
        "id": "uaRMUueQ_Ljj"
      }
    },
    {
      "cell_type": "code",
      "source": [
        "# Function to merge two dictionaries and add values of common keys\n",
        "def merge_dictionaries(dict1, dict2):\n",
        "    merged = dict1.copy()\n",
        "    for key, value in dict2.items():\n",
        "        if key in merged:\n",
        "            merged[key] += value\n",
        "        else:\n",
        "            merged[key] = value\n",
        "    return merged\n",
        "\n",
        "dict1 = {'a': 1, 'b': 2, 'c': 3}\n",
        "dict2 = {'b': 3, 'c': 4, 'd': 5}\n",
        "merged_dict = merge_dictionaries(dict1, dict2)\n",
        "print(\"Merged dictionary:\", merged_dict)"
      ],
      "metadata": {
        "colab": {
          "base_uri": "https://localhost:8080/"
        },
        "id": "3iGKU46WJsnR",
        "outputId": "e4ba8328-b34c-44ff-e07b-a32442194600"
      },
      "execution_count": 33,
      "outputs": [
        {
          "output_type": "stream",
          "name": "stdout",
          "text": [
            "Merged dictionary: {'a': 1, 'b': 5, 'c': 7, 'd': 5}\n"
          ]
        }
      ]
    },
    {
      "cell_type": "markdown",
      "source": [
        "**33. Write a code to access a value in a nested dictionary. The function should take the dictionary and a list of keys as input, and return the corresponding value. If any of the keys do not exist in the dictionary, the function should return None.**"
      ],
      "metadata": {
        "id": "OL_5OJ70_O4x"
      }
    },
    {
      "cell_type": "code",
      "source": [
        "# Function to access a value in a nested dictionary\n",
        "def access_nested_dict(nested_dict, keys):\n",
        "    current = nested_dict\n",
        "    for key in keys:\n",
        "        if key in current:\n",
        "            current = current[key]\n",
        "        else:\n",
        "            return None\n",
        "    return current\n",
        "\n",
        "\n",
        "nested_dict = {'a': {'b': {'c': 42}}}\n",
        "keys = ['a', 'b', 'c']\n",
        "value = access_nested_dict(nested_dict, keys)\n",
        "print(\"Value:\", value)"
      ],
      "metadata": {
        "colab": {
          "base_uri": "https://localhost:8080/"
        },
        "id": "Gk-7WdLpJwX3",
        "outputId": "58a91fc3-23be-49a4-90eb-fb734168d54c"
      },
      "execution_count": 34,
      "outputs": [
        {
          "output_type": "stream",
          "name": "stdout",
          "text": [
            "Value: 42\n"
          ]
        }
      ]
    },
    {
      "cell_type": "markdown",
      "source": [
        "**34. Write a code that takes a dictionary as input and returns a sorted version of it based on the values. You can choose whether to sort in ascending or descending order.**"
      ],
      "metadata": {
        "id": "sssOENMM_Slz"
      }
    },
    {
      "cell_type": "code",
      "source": [
        "# Function to sort a dictionary by values\n",
        "def sort_dict_by_values(d, descending=False):\n",
        "    return dict(sorted(d.items(), key=lambda item: item[1], reverse=descending))\n",
        "\n",
        "\n",
        "input_dict = {'a': 3, 'b': 1, 'c': 2}\n",
        "sorted_dict = sort_dict_by_values(input_dict, descending=False)\n",
        "print(\"Sorted dictionary:\", sorted_dict)"
      ],
      "metadata": {
        "colab": {
          "base_uri": "https://localhost:8080/"
        },
        "id": "1GeyU70gJz94",
        "outputId": "19876a47-100a-46d1-c604-3c27d9c2a3e1"
      },
      "execution_count": 35,
      "outputs": [
        {
          "output_type": "stream",
          "name": "stdout",
          "text": [
            "Sorted dictionary: {'b': 1, 'c': 2, 'a': 3}\n"
          ]
        }
      ]
    },
    {
      "cell_type": "markdown",
      "source": [
        "**35. Write a code that inverts a dictionary, swapping keys and values. Ensure that the inverted dictionary correctly handles cases where multiple keys have the same value by storing the keys as a list in the inverted dictionary.**"
      ],
      "metadata": {
        "id": "BU97vBu3_XU0"
      }
    },
    {
      "cell_type": "code",
      "source": [
        "# Function to invert a dictionary\n",
        "def invert_dict(d):\n",
        "    inverted = {}\n",
        "    for key, value in d.items():\n",
        "        if value in inverted:\n",
        "            inverted[value].append(key)\n",
        "        else:\n",
        "            inverted[value] = [key]\n",
        "    return inverted\n",
        "\n",
        "\n",
        "input_dict = {'a': 1, 'b': 2, 'c': 1}\n",
        "inverted_dict = invert_dict(input_dict)\n",
        "print(\"Inverted dictionary:\", inverted_dict)"
      ],
      "metadata": {
        "colab": {
          "base_uri": "https://localhost:8080/"
        },
        "id": "L7gTW6wH_bAM",
        "outputId": "16ddcdb6-c055-4691-cea3-aa3f4441f1b9"
      },
      "execution_count": 36,
      "outputs": [
        {
          "output_type": "stream",
          "name": "stdout",
          "text": [
            "Inverted dictionary: {1: ['a', 'c'], 2: ['b']}\n"
          ]
        }
      ]
    }
  ]
}